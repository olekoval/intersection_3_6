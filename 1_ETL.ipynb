{
 "cells": [
  {
   "cell_type": "markdown",
   "id": "df518144",
   "metadata": {},
   "source": [
    "## Перевірка на співпадіння значень з додатку №3 та №6\n",
    "\n",
    "https://nszu.gov.ua/rozyasnennya-dlya-zoz\n",
    "\n",
    "- dodatok-3_1678088253.docx\n",
    "- dodatok-6.docx"
   ]
  },
  {
   "cell_type": "code",
   "execution_count": 123,
   "id": "1c358afd",
   "metadata": {},
   "outputs": [],
   "source": [
    "import pandas as pd\n",
    "import openpyxl\n",
    "\n",
    "# з файлу ./data/raw/dodatok-3_1678088253.docx считав данні в \n",
    "# в файл ./data/processed/dod_3.xlsx (PowerQuery) та створив \n",
    "# файл dod_3.xlsx з додаванням двух аркушів з запросів PowerQuery\n",
    "\n",
    "wb = openpyxl.load_workbook(\"./data/processed/dod_3.xlsx\", read_only=True)\n",
    "ws = wb.worksheets[2]\n",
    "ws1 = wb.worksheets[1]\n",
    "\n",
    "s = \"\"\n",
    "s2 = \"\"\n",
    "for i in range(2, 10):\n",
    "    c = ws.cell(row=i, column=1).value\n",
    "    s = s + \", \" + c\n",
    "\n",
    "for j in range(2, 557):\n",
    "    c = ws1.cell(row=j, column=1).value\n",
    "    s2 = s2 + \", \" + c\n",
    "s2 = s2[2:] \n",
    "s = s[2:]\n",
    "set_31 = set(s.split(\", \"))\n",
    "set_32 = set(s2.split(\", \"))\n",
    "# set з додатку 3\n",
    "set_3 = set_31.union(set_32)"
   ]
  },
  {
   "cell_type": "markdown",
   "id": "9306d044",
   "metadata": {},
   "source": [
    "## Cчитав додаток №6 з попереднього проекту (під сумнівом що це додаток 6)\n",
    "\n",
    "### пропускати наступний крок"
   ]
  },
  {
   "cell_type": "code",
   "execution_count": null,
   "id": "b27b0e82",
   "metadata": {},
   "outputs": [],
   "source": [
    " with open (\"./data/raw/cod_2023.txt\", \"r\") as file:\n",
    "    st = file.read()\n",
    "    \n",
    "with open (\"./data/raw/D6.txt\", \"r\") as file:\n",
    "    st2 = file.read()\n",
    "\n",
    "set_61 = set(st.split(\", \"))\n",
    "set_62 = set(st2.split(\" \"))\n",
    "# set з додатку 6 (2023 рік)\n",
    "set_6 = set_61.union(set_62)\n",
    "# set_3.intersection(set_6)"
   ]
  },
  {
   "cell_type": "markdown",
   "id": "fc5cef46",
   "metadata": {},
   "source": [
    "## Прочитати додадок №6 з фалу excel\n",
    "\n",
    "взяв файл docx https://nszu.gov.ua/rozyasnennya-dlya-zoz, та скопіював його в excel ./data/processed/dod_6.xlsx (видалив заголовки в ручну)"
   ]
  },
  {
   "cell_type": "code",
   "execution_count": 124,
   "id": "c58abde5",
   "metadata": {},
   "outputs": [
    {
     "data": {
      "text/plain": [
       "set()"
      ]
     },
     "execution_count": 124,
     "metadata": {},
     "output_type": "execute_result"
    }
   ],
   "source": [
    "wb2 = openpyxl.load_workbook(\"./data/processed/dod_6.xlsx\", read_only=True)\n",
    "ws2 = wb2.worksheets[0]\n",
    "\n",
    "f = \"\"\n",
    "for k in range(1, 12):\n",
    "    q = ws2.cell(row=k, column=1).value\n",
    "    f = f + \" \" + q\n",
    "set6 = set(f[1:].split()) \n",
    "set6.intersection(set_3) # немає збігів"
   ]
  },
  {
   "cell_type": "markdown",
   "id": "2fa218a0",
   "metadata": {},
   "source": [
    "## Запис додатку №3 та №6 в excel"
   ]
  },
  {
   "cell_type": "code",
   "execution_count": 122,
   "id": "b85d3511",
   "metadata": {},
   "outputs": [],
   "source": [
    "wbook = openpyxl.Workbook()\n",
    "sh = wbook.active\n",
    "d6 = sorted(list(set6))\n",
    "d3 = sorted(list(set_3))\n",
    "\n",
    "sh[\"A1\"] = \"Додаток 3\"\n",
    "sh[\"B1\"] = \"flag\"\n",
    "sh[\"D1\"] = \"Додаток 6\"\n",
    "\n",
    "for i in range(len(d3)):\n",
    "    sh.cell(row=i + 2, column=1).value = d3[i]\n",
    "    sh.cell(row=i + 2, column=2).value = \"True\"\n",
    "\n",
    "for j in range(len(d6)):\n",
    "    sh.cell(row=j + 2, column=4).value = d6[j]\n",
    "    \n",
    "wbook.save(\"./data/processed/dod3_6.xlsx\")"
   ]
  }
 ],
 "metadata": {
  "kernelspec": {
   "display_name": "Python 3 (ipykernel)",
   "language": "python",
   "name": "python3"
  },
  "language_info": {
   "codemirror_mode": {
    "name": "ipython",
    "version": 3
   },
   "file_extension": ".py",
   "mimetype": "text/x-python",
   "name": "python",
   "nbconvert_exporter": "python",
   "pygments_lexer": "ipython3",
   "version": "3.9.13"
  }
 },
 "nbformat": 4,
 "nbformat_minor": 5
}
