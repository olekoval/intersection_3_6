{
 "cells": [
  {
   "cell_type": "code",
   "execution_count": 53,
   "id": "1c358afd",
   "metadata": {},
   "outputs": [],
   "source": [
    "import pandas as pd\n",
    "import openpyxl\n",
    "\n",
    "\n",
    "wb = openpyxl.load_workbook(\"./data/processed/dod_3.xlsx\", read_only=True)\n",
    "ws = wb.worksheets[2]\n",
    "ws1 = wb.worksheets[1]"
   ]
  },
  {
   "cell_type": "code",
   "execution_count": 54,
   "id": "047b8982",
   "metadata": {},
   "outputs": [],
   "source": [
    "s = \"\"\n",
    "s2 = \"\"\n",
    "for i in range(2, 10):\n",
    "    c = ws.cell(row=i, column=1).value\n",
    "    s = s + \", \" + c\n",
    "\n",
    "for j in range(2, 557):\n",
    "    c = ws1.cell(row=j, column=1).value\n",
    "    s2 = s2 + \", \" + c\n",
    "s2 = s2[2:] \n",
    "s = s[2:]\n",
    "set_31 = set(s.split(\", \"))\n",
    "set_32 = set(s2.split(\", \"))\n",
    "# set з додатку 3\n",
    "set_3 = set_31.union(set_32)\n",
    "\n",
    "with open (\"./data/raw/cod_2023.txt\", \"r\") as file:\n",
    "    st = file.read()\n",
    "    \n",
    "with open (\"./data/raw/D6.txt\", \"r\") as file:\n",
    "    st2 = file.read()\n",
    "\n",
    "set_61 = set(st.split(\", \"))\n",
    "set_62 = set(st2.split(\" \"))\n",
    "# set з додатку 6 (2023 рік)\n",
    "set_6 = set_61.union(set_62)"
   ]
  }
 ],
 "metadata": {
  "kernelspec": {
   "display_name": "Python 3 (ipykernel)",
   "language": "python",
   "name": "python3"
  },
  "language_info": {
   "codemirror_mode": {
    "name": "ipython",
    "version": 3
   },
   "file_extension": ".py",
   "mimetype": "text/x-python",
   "name": "python",
   "nbconvert_exporter": "python",
   "pygments_lexer": "ipython3",
   "version": "3.9.13"
  }
 },
 "nbformat": 4,
 "nbformat_minor": 5
}
