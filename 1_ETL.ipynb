{
 "cells": [
  {
   "cell_type": "code",
   "execution_count": 1,
   "id": "1c358afd",
   "metadata": {},
   "outputs": [],
   "source": [
    "import pandas as pd\n",
    "import openpyxl\n",
    "\n",
    "\n",
    "wb = openpyxl.load_workbook(\"./data/processed/dod_3.xlsx\", read_only=True)\n",
    "ws = wb.worksheets[2]"
   ]
  },
  {
   "cell_type": "code",
   "execution_count": 3,
   "id": "047b8982",
   "metadata": {},
   "outputs": [],
   "source": [
    "s = \"\"\n",
    "for i in range(2, 10):\n",
    "    c = ws.cell(row=i, column=1).value\n",
    "    s = s + \", \" + c\n",
    "s = s[2:]\n",
    "\n",
    "set_31 = set(s.split(\", \"))"
   ]
  },
  {
   "cell_type": "code",
   "execution_count": null,
   "id": "470c2b02",
   "metadata": {},
   "outputs": [],
   "source": []
  }
 ],
 "metadata": {
  "kernelspec": {
   "display_name": "Python 3 (ipykernel)",
   "language": "python",
   "name": "python3"
  },
  "language_info": {
   "codemirror_mode": {
    "name": "ipython",
    "version": 3
   },
   "file_extension": ".py",
   "mimetype": "text/x-python",
   "name": "python",
   "nbconvert_exporter": "python",
   "pygments_lexer": "ipython3",
   "version": "3.9.13"
  }
 },
 "nbformat": 4,
 "nbformat_minor": 5
}
